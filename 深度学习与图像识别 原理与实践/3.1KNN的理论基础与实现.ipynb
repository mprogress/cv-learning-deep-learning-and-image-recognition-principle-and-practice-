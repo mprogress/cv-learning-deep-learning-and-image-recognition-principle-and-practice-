{
 "cells": [
  {
   "cell_type": "code",
   "execution_count": 2,
   "metadata": {},
   "outputs": [],
   "source": [
    "################## 3.1.1理论知识 ###########################\n",
    "KNN (最邻近算法)，找到最近的K个邻居，在前K个最近样本中选择最近的占比最高的类别作为预测类别\n",
    "计算逻辑：\n",
    "1.给定测试对象，计算它与训练集中每个对象的距离\n",
    "2.圈定距离最近的k个训练对象，作为测试对象的邻居\n",
    "3.根据这k个近邻对象所属的类别，找到占比最高的那个类别作为测试对象的预测类别\n",
    "\n",
    "距离计算方法：\n",
    "1.曼哈顿距离 = |x1-x2|-|y1-y2|\n",
    "2.欧氏距离 = sqrt((x1-x2)*(x1-x2)-(y1-y2)*(y1-y2))"
   ]
  },
  {
   "cell_type": "code",
   "execution_count": 9,
   "metadata": {},
   "outputs": [
    {
     "data": {
      "image/png": "[encoded data removed]",
      "text/plain": [
       "<Figure size 432x288 with 1 Axes>"
      ]
     },
     "metadata": {
      "needs_background": "light"
     },
     "output_type": "display_data"
    }
   ],
   "source": [
    "###################3.1.2 KNN的算法实现#########################\n",
    "import numpy as np\n",
    "import matplotlib.pyplot as plt\n",
    "\n",
    "def createDataSet():\n",
    "    group = np.array([[1.0,2.0],[1.2,0.1],[0.1,1.4],[0.3,3.5],[1.1,1.0],[0.5,1.5]])\n",
    "    labels = np.array(['A','A','B','B','A','B'])\n",
    "    return group,labels\n",
    "if __name__ == '__main__':\n",
    "    group ,labels = createDataSet()\n",
    "    plt.scatter(group[labels == 'A',0],group[labels == 'A',1],color = 'r',marker='*')\n",
    "    plt.scatter(group[labels == 'B',0],group[labels == 'B',1],color = 'g',marker='+')\n",
    "    plt.show()\n",
    "        "
   ]
  },
  {
   "cell_type": "code",
   "execution_count": null,
   "metadata": {},
   "outputs": [],
   "source": []
  }
 ],
 "metadata": {
  "kernelspec": {
   "display_name": "Python 3",
   "language": "python",
   "name": "python3"
  },
  "language_info": {
   "codemirror_mode": {
    "name": "ipython",
    "version": 3
   },
   "file_extension": ".py",
   "mimetype": "text/x-python",
   "name": "python",
   "nbconvert_exporter": "python",
   "pygments_lexer": "ipython3",
   "version": "3.7.0"
  }
 },
 "nbformat": 4,
 "nbformat_minor": 2
}
