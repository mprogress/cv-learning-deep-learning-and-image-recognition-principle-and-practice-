{
 "cells": [
  {
   "cell_type": "code",
   "execution_count": 3,
   "metadata": {},
   "outputs": [
    {
     "name": "stdout",
     "output_type": "stream",
     "text": [
      "[1 2 3 4]\n",
      "[['1' 'Tim']\n",
      " ['2' 'Joey']\n",
      " ['3' 'Johnny']\n",
      " ['4' 'Frank']]\n"
     ]
    }
   ],
   "source": [
    "##############2.3.1 创建数组#############\n",
    "\n",
    "\n",
    "import numpy as np\n",
    "vector = np.array([1,2,3,4])  #直接导入向量\n",
    "\n",
    "martrix = np.array([[1,'Tim'],[2,'Joey'],[3,'Johnny'],[4,'Frank']])  #导入矩阵\n",
    "\n",
    "print(vector)\n",
    "print(martrix)"
   ]
  },
  {
   "cell_type": "code",
   "execution_count": 17,
   "metadata": {},
   "outputs": [
    {
     "name": "stdout",
     "output_type": "stream",
     "text": [
      "[0. 0. 0. 0. 0. 0. 0. 0. 0. 0.]\n"
     ]
    },
    {
     "data": {
      "text/plain": [
       "dtype('float64')"
      ]
     },
     "execution_count": 17,
     "metadata": {},
     "output_type": "execute_result"
    }
   ],
   "source": [
    "#############2.3.2 创建Numpy数组###############\n",
    "\n",
    "\n",
    "a = np.zeros(10)\n",
    "print(a)\n",
    "a.dtype"
   ]
  },
  {
   "cell_type": "code",
   "execution_count": 12,
   "metadata": {},
   "outputs": [
    {
     "data": {
      "text/plain": [
       "array([0, 0, 0, 0, 0, 0, 0, 0, 0, 0])"
      ]
     },
     "execution_count": 12,
     "metadata": {},
     "output_type": "execute_result"
    }
   ],
   "source": [
    "np.zeros(10,dtype = int) #强制规定类型"
   ]
  },
  {
   "cell_type": "code",
   "execution_count": 13,
   "metadata": {},
   "outputs": [
    {
     "data": {
      "text/plain": [
       "array([[0., 0., 0., 0.],\n",
       "       [0., 0., 0., 0.],\n",
       "       [0., 0., 0., 0.]])"
      ]
     },
     "execution_count": 13,
     "metadata": {},
     "output_type": "execute_result"
    }
   ],
   "source": [
    "np.zeros(shape = (3,4)) #多维矩阵"
   ]
  },
  {
   "cell_type": "code",
   "execution_count": 14,
   "metadata": {},
   "outputs": [
    {
     "data": {
      "text/plain": [
       "array([[1., 1., 1., 1.],\n",
       "       [1., 1., 1., 1.],\n",
       "       [1., 1., 1., 1.]])"
      ]
     },
     "execution_count": 14,
     "metadata": {},
     "output_type": "execute_result"
    }
   ],
   "source": [
    "np.ones((3,4)) #全1"
   ]
  },
  {
   "cell_type": "code",
   "execution_count": 15,
   "metadata": {},
   "outputs": [
    {
     "data": {
      "text/plain": [
       "array([[121, 121, 121, 121, 121],\n",
       "       [121, 121, 121, 121, 121],\n",
       "       [121, 121, 121, 121, 121]])"
      ]
     },
     "execution_count": 15,
     "metadata": {},
     "output_type": "execute_result"
    }
   ],
   "source": [
    "np.full((3,5),121)  #full设置一个默认值为121的3*4的矩阵"
   ]
  },
  {
   "cell_type": "code",
   "execution_count": 16,
   "metadata": {},
   "outputs": [
    {
     "data": {
      "text/plain": [
       "array([ 0,  2,  4,  6,  8, 10, 12, 14, 16, 18])"
      ]
     },
     "execution_count": 16,
     "metadata": {},
     "output_type": "execute_result"
    }
   ],
   "source": [
    "np.arange(0,20,2)  #arange接受三个参数，范围是前闭后开，及[0,20)的数，间距步长为2"
   ]
  },
  {
   "cell_type": "code",
   "execution_count": 18,
   "metadata": {},
   "outputs": [
    {
     "data": {
      "text/plain": [
       "array([ 0. ,  2.5,  5. ,  7.5, 10. ])"
      ]
     },
     "execution_count": 18,
     "metadata": {},
     "output_type": "execute_result"
    }
   ],
   "source": [
    "np.linspace(0,10,5)  #linspace（前闭后闭）用于对Numpy矩阵进行等分，例将0-10等分成5份"
   ]
  },
  {
   "cell_type": "code",
   "execution_count": 19,
   "metadata": {},
   "outputs": [
    {
     "data": {
      "text/plain": [
       "array([3, 9, 8, 6, 2])"
      ]
     },
     "execution_count": 19,
     "metadata": {},
     "output_type": "execute_result"
    }
   ],
   "source": [
    "###Numpy生成随机数矩阵\n",
    "np.random.randint(0,10,5)    #生成范围0-9(前闭后开)，个数5个"
   ]
  },
  {
   "cell_type": "code",
   "execution_count": 23,
   "metadata": {},
   "outputs": [
    {
     "data": {
      "text/plain": [
       "array([[7, 8, 4, 5, 7],\n",
       "       [4, 4, 5, 8, 8],\n",
       "       [5, 6, 8, 6, 8]])"
      ]
     },
     "execution_count": 23,
     "metadata": {},
     "output_type": "execute_result"
    }
   ],
   "source": [
    "np.random.randint(4,9,(3,5))   #生成多维矩阵 三行五列 数值介于4-8之间"
   ]
  },
  {
   "cell_type": "code",
   "execution_count": 26,
   "metadata": {},
   "outputs": [
    {
     "data": {
      "text/plain": [
       "array([0.98886109, 0.74816565, 0.28044399, 0.78927933, 0.10322601,\n",
       "       0.44789353, 0.9085955 , 0.29361415, 0.28777534, 0.13002857])"
      ]
     },
     "execution_count": 26,
     "metadata": {},
     "output_type": "execute_result"
    }
   ],
   "source": [
    "np.random.random(10)    #随机生成0-1之间的浮点数，向量长度为10"
   ]
  },
  {
   "cell_type": "code",
   "execution_count": 27,
   "metadata": {},
   "outputs": [
    {
     "data": {
      "text/plain": [
       "array([[0.01936696, 0.67883553, 0.21162812, 0.26554666],\n",
       "       [0.49157316, 0.05336255, 0.57411761, 0.14672857]])"
      ]
     },
     "execution_count": 27,
     "metadata": {},
     "output_type": "execute_result"
    }
   ],
   "source": [
    "np.random.random((2,4))     #随机生成0-1之间的浮点数  形成两行四列的矩阵"
   ]
  },
  {
   "cell_type": "code",
   "execution_count": 29,
   "metadata": {},
   "outputs": [
    {
     "data": {
      "text/plain": [
       "array([[ 1.65980218,  0.74204416, -0.19183555, -0.88762896],\n",
       "       [-0.74715829,  1.6924546 ,  0.05080775, -0.63699565],\n",
       "       [ 0.19091548,  2.10025514,  0.12015895,  0.61720311]])"
      ]
     },
     "execution_count": 29,
     "metadata": {},
     "output_type": "execute_result"
    }
   ],
   "source": [
    "np.random.normal(loc = 0,scale = 1,size = (3,4))  #正态分布 loc(float)均值  ，scale（float）标准差，size（int或者整数元组） 默认为none"
   ]
  },
  {
   "cell_type": "code",
   "execution_count": 10,
   "metadata": {},
   "outputs": [
    {
     "name": "stdout",
     "output_type": "stream",
     "text": [
      "[ 0  1  2  3  4  5  6  7  8  9 10 11 12 13 14]\n",
      "[[ 0  1  2  3  4]\n",
      " [ 5  6  7  8  9]\n",
      " [10 11 12 13 14]]\n",
      "[[ 0  1  2]\n",
      " [ 3  4  5]\n",
      " [ 6  7  8]\n",
      " [ 9 10 11]\n",
      " [12 13 14]]\n"
     ]
    }
   ],
   "source": [
    "################2.3.3 获取Numpy属性##########################\n",
    "import numpy as np\n",
    "a = np.arange(15)  \n",
    "b= np.arange(15).reshape(3,5)   #reshape改变矩阵的行列数\n",
    "c = b.reshape(5,3)\n",
    "print(a)\n",
    "print(b)\n",
    "print(c)"
   ]
  },
  {
   "cell_type": "code",
   "execution_count": 12,
   "metadata": {},
   "outputs": [
    {
     "name": "stdout",
     "output_type": "stream",
     "text": [
      "(15,)\n",
      "(3, 5)\n",
      "(5, 3)\n"
     ]
    }
   ],
   "source": [
    "print(a.shape)    #shape显示矩阵的行列数\n",
    "print(b.shape)\n",
    "print(c.shape)"
   ]
  },
  {
   "cell_type": "code",
   "execution_count": 15,
   "metadata": {},
   "outputs": [
    {
     "name": "stdout",
     "output_type": "stream",
     "text": [
      "1\n",
      "2\n",
      "2\n"
     ]
    }
   ],
   "source": [
    "print(a.ndim)   #ndim显示矩阵的维度\n",
    "print(b.ndim) \n",
    "print(c.ndim) "
   ]
  },
  {
   "cell_type": "code",
   "execution_count": 25,
   "metadata": {},
   "outputs": [
    {
     "data": {
      "text/plain": [
       "array([[ 0,  1,  2,  3,  4],\n",
       "       [ 5,  6,  7,  8,  9],\n",
       "       [10, 11, 12, 13, 14]])"
      ]
     },
     "execution_count": 25,
     "metadata": {},
     "output_type": "execute_result"
    }
   ],
   "source": [
    "a.reshape(5,-1)  #只设置需要的行数5，列数由计算机自己计算"
   ]
  },
  {
   "cell_type": "code",
   "execution_count": 24,
   "metadata": {},
   "outputs": [
    {
     "data": {
      "text/plain": [
       "array([[ 0,  1,  2,  3,  4],\n",
       "       [ 5,  6,  7,  8,  9],\n",
       "       [10, 11, 12, 13, 14]])"
      ]
     },
     "execution_count": 24,
     "metadata": {},
     "output_type": "execute_result"
    }
   ],
   "source": [
    "b.reshape(-1,5)  #只设置需要的列数3，行数由计算机自己计算"
   ]
  },
  {
   "cell_type": "code",
   "execution_count": 26,
   "metadata": {},
   "outputs": [
    {
     "name": "stdout",
     "output_type": "stream",
     "text": [
      "2\n"
     ]
    }
   ],
   "source": [
    "##################### 2.3.4  Numpy数组索引#######################\n",
    "matrix = np.array([[1,2,3],[20,30,40]])\n",
    "print(matrix[0,1])    #定位操作"
   ]
  },
  {
   "cell_type": "code",
   "execution_count": 28,
   "metadata": {},
   "outputs": [
    {
     "name": "stdout",
     "output_type": "stream",
     "text": [
      "[10 25 40]\n",
      "[[ 5 10]\n",
      " [20 25]\n",
      " [35 40]]\n",
      "[[20 25 30]\n",
      " [35 40 45]]\n",
      "[[20 25]\n",
      " [35 40]]\n"
     ]
    }
   ],
   "source": [
    "#################### 2.3.5  切片#############################\n",
    "\n",
    "matrix = np.array([\n",
    "    [5,10,15],\n",
    "    [20,25,30],\n",
    "    [35,40,45]\n",
    "])\n",
    "print(matrix[:,1])      #所有行且列索引为1\n",
    "print(matrix[:,0:2])      #所有行且列索引为0和1\n",
    "print(matrix[1:3,:])        #所有列且行索引为1和2\n",
    "print(matrix[1:3,0:2])      #行索引为1-2，列索引为0-1\n"
   ]
  },
  {
   "cell_type": "code",
   "execution_count": 31,
   "metadata": {},
   "outputs": [
    {
     "name": "stdout",
     "output_type": "stream",
     "text": [
      "[[1. 0. 0.]\n",
      " [0. 1. 0.]\n",
      " [0. 0. 1.]]\n",
      "[[0. 1. 1.]\n",
      " [1. 0. 1.]\n",
      " [1. 1. 0.]]\n"
     ]
    }
   ],
   "source": [
    "################## 2.3.6Numpy中的矩阵运算#########################\n",
    "myones = np.ones([3,3])\n",
    "myeye = np.eye(3)   #单位矩阵\n",
    "print(myeye)\n",
    "print(myones - myeye)   #直接减法计算"
   ]
  },
  {
   "cell_type": "code",
   "execution_count": 34,
   "metadata": {},
   "outputs": [],
   "source": [
    "#预置函数\n",
    "np.sin(a)\n",
    "np.cos(a)\n",
    "np.tan(a)\n",
    "np.sqrt(a)\n",
    "np.abs(a)     #取绝对值\n"
   ]
  },
  {
   "cell_type": "code",
   "execution_count": 36,
   "metadata": {},
   "outputs": [
    {
     "name": "stdout",
     "output_type": "stream",
     "text": [
      "True\n",
      "[[22 28]\n",
      " [49 64]]\n"
     ]
    }
   ],
   "source": [
    "#矩阵之间的点乘\n",
    "mymatrix = np.array([[1,2,3],[4,5,6]])\n",
    "a = np.array([[1,2],[3,4],[5,6]])\n",
    "print(mymatrix.shape[1] == a.shape[0])\n",
    "print(mymatrix.dot(a))"
   ]
  },
  {
   "cell_type": "code",
   "execution_count": 37,
   "metadata": {},
   "outputs": [
    {
     "name": "stdout",
     "output_type": "stream",
     "text": [
      "[[1 4]\n",
      " [2 5]\n",
      " [3 6]]\n"
     ]
    }
   ],
   "source": [
    "#矩阵的转置\n",
    "a = np.array([[1,2,3],[4,5,6]])\n",
    "print(a.T)"
   ]
  },
  {
   "cell_type": "code",
   "execution_count": 2,
   "metadata": {},
   "outputs": [
    {
     "name": "stdout",
     "output_type": "stream",
     "text": [
      "[[-1.5  0.5]\n",
      " [ 1.   0. ]]\n",
      "[[1. 0.]\n",
      " [0. 1.]]\n"
     ]
    }
   ],
   "source": [
    "#矩阵的逆\n",
    "import numpy as np\n",
    "import numpy.linalg as lg\n",
    "A =np.array([[0,1],[2,3]])\n",
    "invA = lg.inv(A)\n",
    "print(invA)\n",
    "print(A.dot(invA))"
   ]
  },
  {
   "cell_type": "code",
   "execution_count": 6,
   "metadata": {},
   "outputs": [
    {
     "name": "stdout",
     "output_type": "stream",
     "text": [
      "['1' '2' '3']\n",
      "[1. 2. 3.]\n"
     ]
    }
   ],
   "source": [
    "################ 2.3.7 数据类型转换 ######################\n",
    "vector = np.array([\"1\",\"2\",\"3\"])\n",
    "print(vector)\n",
    "vector = vector.astype(float)  #astype调用返回一个新的数组即原数组的备份\n",
    "print(vector)"
   ]
  },
  {
   "cell_type": "code",
   "execution_count": 7,
   "metadata": {},
   "outputs": [],
   "source": [
    "################  2.3.8  Numpy的统计计算方法##################\n",
    "#内置方法\n",
    "sum()\n",
    "mean()  #平均值\n",
    "max()\n",
    "median()  #中位数"
   ]
  },
  {
   "cell_type": "code",
   "execution_count": 8,
   "metadata": {},
   "outputs": [
    {
     "data": {
      "text/plain": [
       "50"
      ]
     },
     "execution_count": 8,
     "metadata": {},
     "output_type": "execute_result"
    }
   ],
   "source": [
    "vector = np.array([5,10,15,20])\n",
    "vector.sum()"
   ]
  },
  {
   "cell_type": "code",
   "execution_count": 14,
   "metadata": {},
   "outputs": [
    {
     "name": "stdout",
     "output_type": "stream",
     "text": [
      "[ 30  60 120]\n",
      "210\n"
     ]
    }
   ],
   "source": [
    "matrix = np.array([[5,10,15],[20,10,30],[35,40,45]])\n",
    "  \n",
    "print(matrix.sum(axis =1)) #计算每行的和\n",
    "\n",
    "print(matrix.sum())"
   ]
  },
  {
   "cell_type": "code",
   "execution_count": 20,
   "metadata": {},
   "outputs": [
    {
     "name": "stdout",
     "output_type": "stream",
     "text": [
      "2\n",
      "0\n"
     ]
    }
   ],
   "source": [
    "##################### Numpy中的arg运算############################\\\n",
    "print(np.argmax([1,2,6,3,2]))   #argmax返回最大的数所对应的索引（位置）\n",
    "print(np.argmin([1,2,6,3,2]))   #argmin返回最小的数所对应的索引（位置）"
   ]
  },
  {
   "cell_type": "code",
   "execution_count": 21,
   "metadata": {},
   "outputs": [
    {
     "name": "stdout",
     "output_type": "stream",
     "text": [
      "[ 0  1  2  3  4  5  6  7  8  9 10 11 12 13 14]\n",
      "[ 3  0  7  9  8  5 12 10  1  4  2 13 14 11  6]\n",
      "[ 1  8 10  0  9  5 14  2  4  3  7 13  6 11 12]\n"
     ]
    }
   ],
   "source": [
    "#Numpy矩阵排序和索引\n",
    "x = np.arange(15)\n",
    "print(x)\n",
    "np.random.shuffle(x)  #随机打乱\n",
    "print(x)\n",
    "sx = np.argsort(x)    #从小到大排序，返回索引值\n",
    "print(sx)"
   ]
  },
  {
   "cell_type": "code",
   "execution_count": 23,
   "metadata": {},
   "outputs": [
    {
     "name": "stdout",
     "output_type": "stream",
     "text": [
      "[3 5 8]\n"
     ]
    }
   ],
   "source": [
    "###################### 2.3.10  FancyIndexing ########################\n",
    "#返回索引向量中的多个值。如返回第三个，第五个以及第八个元素\n",
    "x = np.arange(15)\n",
    "ind = [3,5,8]\n",
    "print(x[ind])"
   ]
  },
  {
   "cell_type": "code",
   "execution_count": 24,
   "metadata": {},
   "outputs": [
    {
     "name": "stdout",
     "output_type": "stream",
     "text": [
      "[ 4  9  7 11 12  8  0 14  6 10  5  1  3  2 13]\n",
      "[[ 7  9]\n",
      " [ 9 11]]\n"
     ]
    }
   ],
   "source": [
    "#从一维向量宗构建新的二维矩阵\n",
    "x = np.arange(15)\n",
    "np.random.shuffle(x)\n",
    "ind = np.array([[2,1],[1,3]])   #新建的二维矩阵的第一行是x中索引值为0和2的值，第二行是x中索引为1和3的值\n",
    "print(x)\n",
    "print(x[ind])"
   ]
  },
  {
   "cell_type": "code",
   "execution_count": 25,
   "metadata": {},
   "outputs": [
    {
     "name": "stdout",
     "output_type": "stream",
     "text": [
      "[[False False False]\n",
      " [False  True False]\n",
      " [False False False]]\n",
      "[[False False False]\n",
      " [False False False]\n",
      " [ True  True  True]]\n"
     ]
    }
   ],
   "source": [
    "##################### 2.3.11 Numpy数组比较 ############################\n",
    "matrix = np.array([\n",
    "    [5,10,15],\n",
    "    [20,25,30],\n",
    "    [35,40,45]\n",
    "])\n",
    "m = (matrix ==25)\n",
    "n = (matrix >30)\n",
    "print(m)\n",
    "print(n)"
   ]
  },
  {
   "cell_type": "code",
   "execution_count": null,
   "metadata": {},
   "outputs": [],
   "source": []
  }
 ],
 "metadata": {
  "kernelspec": {
   "display_name": "Python 3",
   "language": "python",
   "name": "python3"
  },
  "language_info": {
   "codemirror_mode": {
    "name": "ipython",
    "version": 3
   },
   "file_extension": ".py",
   "mimetype": "text/x-python",
   "name": "python",
   "nbconvert_exporter": "python",
   "pygments_lexer": "ipython3",
   "version": "3.7.0"
  }
 },
 "nbformat": 4,
 "nbformat_minor": 2
}
